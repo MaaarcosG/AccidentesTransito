{
 "cells": [
  {
   "cell_type": "markdown",
   "metadata": {},
   "source": [
    "# ACCIDENTES DE TRANSITO\n",
    "\n",
    "### Objetivos\n",
    "- Limpiar los datos de INE sobre estadisticas de accidentes de transito\n",
    "- Dar recomendaciones de como mejorar el set de datos para que sirva para prevenir accidentes\n",
    "\n",
    "### Causas de Accidentes\n",
    "- Fallas Mecanicas (eg. frenos)\n",
    "- Conductores ebrios, durante días festivos o fin de semana\n",
    "- Uso de telefono durante se va manejando\n",
    "- Incumplir la normalidad del semaforo (eg. Ignorar el semaforo rojo)\n",
    "- Exceso de velocidad\n",
    "\n",
    "### Datos que contiene el Set\n",
    "Los datos que se utilizaron durante la realización del proyectos, fueron los brindados por la página [Instituto Nacional de Estadistica](https://www.ine.gob.gt/estadisticasine/index.php/usuario/hechos_transito_menu)\n",
    "\n",
    "Las variables que se encuentran en los set de datos son:\n",
    "- Numero de correlativo\n",
    "- Año de ocurrencia\n",
    "- Dia de ocurrencia\n",
    "- Hora de ocurrencia\n",
    "- Grupo de Hora\n",
    "- Grupo de hora mañana, tarde y noche\n",
    "- Mes de ocurrencia\n",
    "- Dia de ocurrencia\n",
    "- Departamento de ocurrencia\n",
    "- Municipio de ocurencia\n",
    "- Zona de ocurrencia\n",
    "- Sexo de la persona\n",
    "- Edad de la Persona\n",
    "- Grupo de edad 80 y más\n",
    "- Grupo de edad 60 y más\n",
    "- Edades Quinquenales\n",
    "- Mayor y Menor\n",
    "- Tipo de Vehiculo\n",
    "- Marca de Vehiculo\n",
    "- Color de Vehiculo\n",
    "- Grupo de modelo de vehiculo\n",
    "- Tipo de Vehiculo\n",
    "- Tipo de evento\n",
    "- Fallecidos y Lesionados\n",
    "- Internados o no internads\n",
    "\n",
    "### Datos Necesarios para Asegurados\n",
    "Muchos de los vehiculos al momento de los accidentes se encuentran asegurados, por lo que al momento de un choque estos mismo llaman a la aseguradora, la cual solicita los siguientes datos:\n",
    "\n",
    "- **Datos del vehiculo**\n",
    "    - Marca del Vehiculo\n",
    "    - Tipo de Vehiculo\n",
    "    - Modelo de Vehiculo\n",
    "    - Color de Vehiculo\n",
    "    \n",
    "- **Datos del Accidentes**\n",
    "    - Fecha del Accidente\n",
    "    - Hora del Accidente\n",
    "    - Lado de la Calle\n",
    "    - Velocidad\n",
    "    - Causa del Accidente\n",
    "\n",
    "### VARIABLES INECESARIAS \n",
    "\n",
    "Se analizaron los datos, y las variables se eliminaron las variables que no brindan mayor datos o que se puedon realicionar con otra variable por lo cual el dataset se acorto, los datos que no se tomaron fueron:\n",
    "\n",
    "- Grupo de hora mañana, tarde y noche\n",
    "- Municipio de ocurencia\n",
    "- Zona de ocurrencia\n",
    "- Sexo de la persona\n",
    "- Edad de la Persona\n",
    "- Grupo de edad 80 y más\n",
    "- Grupo de edad 60 y más\n",
    "- Edades Quinquenales\n",
    "- Mayor y Menor\n",
    "- Marca de Vehiculo\n",
    "- Color de Vehiculo\n",
    "- Grupo de modelo de vehiculo\n",
    "- Internados o no internads\n",
    "\n",
    "Las variables mecionadas anteriormente, son variables innecesarias completamente debido a que sos tados que no brindan mayor información para analiss. Por ejemplo:\n",
    "- **zona_ocu:** No brinda información alguna, dentro de los datos que contiene la variables son todos ignorados, y durante los accidentes no se registran el lugar. Se puede mejorar implementando algun gps que ayude a los que registran cada uno de los accidentes y asi poder ubicar mejor el accidente.\n",
    "- ------------------------------\n",
    "- **grupos_edad:** Innecesaria y una varible que no da información alguna, durante los accidentes la edad no es factor que cause mayores accidentes.\n",
    "\n",
    "### ¿QUE HACEN EN OTROS PAISES?\n",
    "Existe un grupo llamado Road Safety Database del International Traffic Safety Data and Analysis Group [IRTAD](https://www.itf-oecd.org/IRTAD) La base de datos IRTAD recopila y agrega datos internacionales sobre accidentes viales, además proporciona así una base empírica para las comparaciones internacionales y políticas de seguridad vial más efectivas. La base de datos incluye datos validados para 32 países. La mayoría de los datos de IRTAD se pueden encontrar en los informes anuales de seguridad vial de IRTAD. El acceso en línea a la base de datos IRTAD completa está disponible para los suscriptores a través del portal de estadísticas de la OCDE .\n",
    "\n",
    "### SOLUCIONES PROPUESTAS\n",
    "1. No ignorar la zona de ocurrencia del accidente, brinda más información este dato; como si la carretara o via esta en mal estado por lo cual hubo tal accidente.\n",
    "-------------------------------------------\n",
    "2. Realizar una base de datos, unicamente para conductores otra para pasajeros y asi sucesivamente para que, las varaibles de les_fall esten mejor indicadas ya que los accidentes cualquier persona puede salir lastimada.\n"
   ]
  },
  {
   "cell_type": "markdown",
   "metadata": {},
   "source": [
    "### ANALISIS DE DATOS DE FALLECIDOS Y LESIONADOS\n",
    "\n",
    "Para la generación del dataset fue realizado en el link que se encuentra a continuación [Fallecidos y Lesionados](https://github.com/MaaarcosG/AccidentesTransito/blob/master/FallecidosLesionados.ipynb)"
   ]
  },
  {
   "cell_type": "code",
   "execution_count": 1,
   "metadata": {},
   "outputs": [],
   "source": [
    "import pandas as pd\n",
    "import warnings\n",
    "import matplotlib.pyplot as plt\n",
    "%matplotlib inline\n",
    "warnings.filterwarnings('ignore')"
   ]
  },
  {
   "cell_type": "code",
   "execution_count": 2,
   "metadata": {},
   "outputs": [
    {
     "data": {
      "text/html": [
       "<div>\n",
       "<style scoped>\n",
       "    .dataframe tbody tr th:only-of-type {\n",
       "        vertical-align: middle;\n",
       "    }\n",
       "\n",
       "    .dataframe tbody tr th {\n",
       "        vertical-align: top;\n",
       "    }\n",
       "\n",
       "    .dataframe thead th {\n",
       "        text-align: right;\n",
       "    }\n",
       "</style>\n",
       "<table border=\"1\" class=\"dataframe\">\n",
       "  <thead>\n",
       "    <tr style=\"text-align: right;\">\n",
       "      <th></th>\n",
       "      <th>año_ocu</th>\n",
       "      <th>color_veh</th>\n",
       "      <th>depto_ocu</th>\n",
       "      <th>día_ocu</th>\n",
       "      <th>día_sem_ocu</th>\n",
       "      <th>fall_les</th>\n",
       "      <th>g_hora_5</th>\n",
       "      <th>hora_ocu</th>\n",
       "      <th>mes_ocu</th>\n",
       "      <th>modelo_veh</th>\n",
       "      <th>tipo_eve</th>\n",
       "      <th>tipo_veh</th>\n",
       "    </tr>\n",
       "  </thead>\n",
       "  <tbody>\n",
       "    <tr>\n",
       "      <th>0</th>\n",
       "      <td>2019</td>\n",
       "      <td>5</td>\n",
       "      <td>1</td>\n",
       "      <td>1</td>\n",
       "      <td>2</td>\n",
       "      <td>2</td>\n",
       "      <td>1</td>\n",
       "      <td>5</td>\n",
       "      <td>1</td>\n",
       "      <td>2018</td>\n",
       "      <td>6</td>\n",
       "      <td>4</td>\n",
       "    </tr>\n",
       "    <tr>\n",
       "      <th>1</th>\n",
       "      <td>2019</td>\n",
       "      <td>5</td>\n",
       "      <td>1</td>\n",
       "      <td>1</td>\n",
       "      <td>2</td>\n",
       "      <td>2</td>\n",
       "      <td>3</td>\n",
       "      <td>21</td>\n",
       "      <td>1</td>\n",
       "      <td>2018</td>\n",
       "      <td>1</td>\n",
       "      <td>4</td>\n",
       "    </tr>\n",
       "    <tr>\n",
       "      <th>2</th>\n",
       "      <td>2019</td>\n",
       "      <td>5</td>\n",
       "      <td>1</td>\n",
       "      <td>1</td>\n",
       "      <td>2</td>\n",
       "      <td>2</td>\n",
       "      <td>3</td>\n",
       "      <td>21</td>\n",
       "      <td>1</td>\n",
       "      <td>2018</td>\n",
       "      <td>1</td>\n",
       "      <td>4</td>\n",
       "    </tr>\n",
       "    <tr>\n",
       "      <th>3</th>\n",
       "      <td>2019</td>\n",
       "      <td>5</td>\n",
       "      <td>1</td>\n",
       "      <td>1</td>\n",
       "      <td>2</td>\n",
       "      <td>2</td>\n",
       "      <td>1</td>\n",
       "      <td>7</td>\n",
       "      <td>1</td>\n",
       "      <td>2018</td>\n",
       "      <td>1</td>\n",
       "      <td>4</td>\n",
       "    </tr>\n",
       "    <tr>\n",
       "      <th>4</th>\n",
       "      <td>2019</td>\n",
       "      <td>3</td>\n",
       "      <td>1</td>\n",
       "      <td>1</td>\n",
       "      <td>2</td>\n",
       "      <td>2</td>\n",
       "      <td>1</td>\n",
       "      <td>11</td>\n",
       "      <td>1</td>\n",
       "      <td>2006</td>\n",
       "      <td>1</td>\n",
       "      <td>4</td>\n",
       "    </tr>\n",
       "  </tbody>\n",
       "</table>\n",
       "</div>"
      ],
      "text/plain": [
       "   año_ocu  color_veh  depto_ocu  día_ocu  día_sem_ocu  fall_les  g_hora_5  \\\n",
       "0     2019          5          1        1            2         2         1   \n",
       "1     2019          5          1        1            2         2         3   \n",
       "2     2019          5          1        1            2         2         3   \n",
       "3     2019          5          1        1            2         2         1   \n",
       "4     2019          3          1        1            2         2         1   \n",
       "\n",
       "   hora_ocu  mes_ocu  modelo_veh  tipo_eve  tipo_veh  \n",
       "0         5        1        2018         6         4  \n",
       "1        21        1        2018         1         4  \n",
       "2        21        1        2018         1         4  \n",
       "3         7        1        2018         1         4  \n",
       "4        11        1        2006         1         4  "
      ]
     },
     "execution_count": 2,
     "metadata": {},
     "output_type": "execute_result"
    }
   ],
   "source": [
    "dataFallecidos = pd.read_csv('FallecidosCompletos.csv', na_values=['NaN'])\n",
    "dataFallecidos.head(5)"
   ]
  },
  {
   "cell_type": "code",
   "execution_count": 3,
   "metadata": {},
   "outputs": [
    {
     "data": {
      "text/plain": [
       "año_ocu        0\n",
       "color_veh      0\n",
       "depto_ocu      0\n",
       "día_ocu        0\n",
       "día_sem_ocu    0\n",
       "fall_les       0\n",
       "g_hora_5       0\n",
       "hora_ocu       0\n",
       "mes_ocu        0\n",
       "modelo_veh     0\n",
       "tipo_eve       0\n",
       "tipo_veh       0\n",
       "dtype: int64"
      ]
     },
     "execution_count": 3,
     "metadata": {},
     "output_type": "execute_result"
    }
   ],
   "source": [
    "dataFallecidos.isnull().sum() #Se puede observar que el data set, no contiene ningún valor null"
   ]
  },
  {
   "cell_type": "code",
   "execution_count": 4,
   "metadata": {},
   "outputs": [
    {
     "data": {
      "text/plain": [
       "16678"
      ]
     },
     "execution_count": 4,
     "metadata": {},
     "output_type": "execute_result"
    }
   ],
   "source": [
    "dataFallecidos.duplicated().sum() #Verificamos que hay filas duplicadas, por lo que las vamos a eliminar"
   ]
  },
  {
   "cell_type": "markdown",
   "metadata": {},
   "source": [
    "### Diccionarios de los Valores\n",
    "Se crearon los diccionario de los valores para identificar mejor cada uno de los datos"
   ]
  },
  {
   "cell_type": "code",
   "execution_count": 5,
   "metadata": {},
   "outputs": [],
   "source": [
    "fall_les = {1: 'Fallecido', 2: 'Lesionado', 9: 'Ignorado'}\n",
    "dataFallecidos['fall_les'] = dataFallecidos['fall_les'].replace(fall_les)"
   ]
  },
  {
   "cell_type": "code",
   "execution_count": 6,
   "metadata": {},
   "outputs": [],
   "source": [
    "tipo_eve = {1: 'Colision', \n",
    "            2: 'Choque', \n",
    "            3: 'Vuelco', \n",
    "            4: 'Caida', \n",
    "            5: 'Atropello', \n",
    "            6: 'Derrape', \n",
    "            7: 'Embarranco', \n",
    "            8: 'Encuneto', \n",
    "            99: 'Ignorado'}\n",
    "\n",
    "dataFallecidos['tipo_eve'] = dataFallecidos['tipo_eve'].replace(tipo_eve)"
   ]
  },
  {
   "cell_type": "code",
   "execution_count": 7,
   "metadata": {},
   "outputs": [],
   "source": [
    "tipo_veh = {1: 'Automovil', \n",
    "            2: 'Camioneta Sport', \n",
    "            3: 'Pick Up', \n",
    "            4: 'Motocicleta', \n",
    "            5: 'Camion', \n",
    "            6: 'Cabezal', \n",
    "            7: 'Bus extraurbano', \n",
    "            8: 'Jeep', \n",
    "            9: 'Microbus',\n",
    "            10: 'Taxi',\n",
    "            11: 'Panel',\n",
    "            12: 'Bus Urbano',\n",
    "            13: 'Tractor',\n",
    "            14: 'Moto Taxi',\n",
    "            15: 'Furgon',\n",
    "            16: 'Grua',\n",
    "            17: 'Bus Escolar',\n",
    "            18: 'Bicicleta',\n",
    "            19: 'Avioneta',\n",
    "            20: 'Montacarga',\n",
    "            21: 'Bus Militar',\n",
    "            22: 'Cuatrimoto',\n",
    "            23: 'Furgoneta',\n",
    "            99: 'Ignorado'}\n",
    "\n",
    "dataFallecidos['tipo_veh'] = dataFallecidos['tipo_veh'].replace(tipo_veh)"
   ]
  },
  {
   "cell_type": "code",
   "execution_count": 8,
   "metadata": {},
   "outputs": [],
   "source": [
    "tipo_veh = {1: 'Guatemala', \n",
    "            2: 'El Progreso', \n",
    "            3: 'Sacatepequez', \n",
    "            4: 'Chimaltenango', \n",
    "            5: 'Escuintla', \n",
    "            6: 'Santa Rosa', \n",
    "            7: 'Solola', \n",
    "            8: 'Totonicapan', \n",
    "            9: 'Quetzaltenango',\n",
    "            10: 'Suchitepequez',\n",
    "            11: 'Retalhuleu',\n",
    "            12: 'San Marcos',\n",
    "            13: 'Huhuetenango',\n",
    "            14: 'Quiche',\n",
    "            15: 'Baja Verapaz',\n",
    "            16: 'Alta Verapaz',\n",
    "            17: 'Peten',\n",
    "            18: 'Izabal',\n",
    "            19: 'Zacapa',\n",
    "            20: 'Chiquimula',\n",
    "            21: 'Jalapa',\n",
    "            22: 'Jutiapa'}\n",
    "\n",
    "dataFallecidos['depto_ocu'] = dataFallecidos['depto_ocu'].replace(tipo_veh)"
   ]
  },
  {
   "cell_type": "markdown",
   "metadata": {},
   "source": [
    "### Verificacion de los Datos\n",
    "Se verifica que los datos esten correctamente"
   ]
  },
  {
   "cell_type": "code",
   "execution_count": 9,
   "metadata": {},
   "outputs": [
    {
     "data": {
      "text/html": [
       "<div>\n",
       "<style scoped>\n",
       "    .dataframe tbody tr th:only-of-type {\n",
       "        vertical-align: middle;\n",
       "    }\n",
       "\n",
       "    .dataframe tbody tr th {\n",
       "        vertical-align: top;\n",
       "    }\n",
       "\n",
       "    .dataframe thead th {\n",
       "        text-align: right;\n",
       "    }\n",
       "</style>\n",
       "<table border=\"1\" class=\"dataframe\">\n",
       "  <thead>\n",
       "    <tr style=\"text-align: right;\">\n",
       "      <th></th>\n",
       "      <th>año_ocu</th>\n",
       "      <th>color_veh</th>\n",
       "      <th>depto_ocu</th>\n",
       "      <th>día_ocu</th>\n",
       "      <th>día_sem_ocu</th>\n",
       "      <th>fall_les</th>\n",
       "      <th>g_hora_5</th>\n",
       "      <th>hora_ocu</th>\n",
       "      <th>mes_ocu</th>\n",
       "      <th>modelo_veh</th>\n",
       "      <th>tipo_eve</th>\n",
       "      <th>tipo_veh</th>\n",
       "    </tr>\n",
       "  </thead>\n",
       "  <tbody>\n",
       "    <tr>\n",
       "      <th>0</th>\n",
       "      <td>2019</td>\n",
       "      <td>5</td>\n",
       "      <td>Guatemala</td>\n",
       "      <td>1</td>\n",
       "      <td>2</td>\n",
       "      <td>Lesionado</td>\n",
       "      <td>1</td>\n",
       "      <td>5</td>\n",
       "      <td>1</td>\n",
       "      <td>2018</td>\n",
       "      <td>Derrape</td>\n",
       "      <td>Motocicleta</td>\n",
       "    </tr>\n",
       "    <tr>\n",
       "      <th>1</th>\n",
       "      <td>2019</td>\n",
       "      <td>5</td>\n",
       "      <td>Guatemala</td>\n",
       "      <td>1</td>\n",
       "      <td>2</td>\n",
       "      <td>Lesionado</td>\n",
       "      <td>3</td>\n",
       "      <td>21</td>\n",
       "      <td>1</td>\n",
       "      <td>2018</td>\n",
       "      <td>Colision</td>\n",
       "      <td>Motocicleta</td>\n",
       "    </tr>\n",
       "    <tr>\n",
       "      <th>3</th>\n",
       "      <td>2019</td>\n",
       "      <td>5</td>\n",
       "      <td>Guatemala</td>\n",
       "      <td>1</td>\n",
       "      <td>2</td>\n",
       "      <td>Lesionado</td>\n",
       "      <td>1</td>\n",
       "      <td>7</td>\n",
       "      <td>1</td>\n",
       "      <td>2018</td>\n",
       "      <td>Colision</td>\n",
       "      <td>Motocicleta</td>\n",
       "    </tr>\n",
       "    <tr>\n",
       "      <th>4</th>\n",
       "      <td>2019</td>\n",
       "      <td>3</td>\n",
       "      <td>Guatemala</td>\n",
       "      <td>1</td>\n",
       "      <td>2</td>\n",
       "      <td>Lesionado</td>\n",
       "      <td>1</td>\n",
       "      <td>11</td>\n",
       "      <td>1</td>\n",
       "      <td>2006</td>\n",
       "      <td>Colision</td>\n",
       "      <td>Motocicleta</td>\n",
       "    </tr>\n",
       "    <tr>\n",
       "      <th>5</th>\n",
       "      <td>2019</td>\n",
       "      <td>1</td>\n",
       "      <td>Guatemala</td>\n",
       "      <td>1</td>\n",
       "      <td>2</td>\n",
       "      <td>Fallecido</td>\n",
       "      <td>1</td>\n",
       "      <td>8</td>\n",
       "      <td>1</td>\n",
       "      <td>9999</td>\n",
       "      <td>Derrape</td>\n",
       "      <td>Motocicleta</td>\n",
       "    </tr>\n",
       "  </tbody>\n",
       "</table>\n",
       "</div>"
      ],
      "text/plain": [
       "   año_ocu  color_veh  depto_ocu  día_ocu  día_sem_ocu   fall_les  g_hora_5  \\\n",
       "0     2019          5  Guatemala        1            2  Lesionado         1   \n",
       "1     2019          5  Guatemala        1            2  Lesionado         3   \n",
       "3     2019          5  Guatemala        1            2  Lesionado         1   \n",
       "4     2019          3  Guatemala        1            2  Lesionado         1   \n",
       "5     2019          1  Guatemala        1            2  Fallecido         1   \n",
       "\n",
       "   hora_ocu  mes_ocu  modelo_veh  tipo_eve     tipo_veh  \n",
       "0         5        1        2018   Derrape  Motocicleta  \n",
       "1        21        1        2018  Colision  Motocicleta  \n",
       "3         7        1        2018  Colision  Motocicleta  \n",
       "4        11        1        2006  Colision  Motocicleta  \n",
       "5         8        1        9999   Derrape  Motocicleta  "
      ]
     },
     "execution_count": 9,
     "metadata": {},
     "output_type": "execute_result"
    }
   ],
   "source": [
    "dataF = dataFallecidos.drop_duplicates() #Eliminamos las filas que se encuentren duplicadas\n",
    "dataF.head(5)"
   ]
  },
  {
   "cell_type": "code",
   "execution_count": 10,
   "metadata": {},
   "outputs": [
    {
     "data": {
      "text/plain": [
       "0"
      ]
     },
     "execution_count": 10,
     "metadata": {},
     "output_type": "execute_result"
    }
   ],
   "source": [
    "dataF.duplicated().sum() #Verificamos que las filas no estan duplicadas"
   ]
  },
  {
   "cell_type": "code",
   "execution_count": 11,
   "metadata": {},
   "outputs": [
    {
     "data": {
      "text/plain": [
       "array([2019, 2018, 2017, 2016, 2015], dtype=int64)"
      ]
     },
     "execution_count": 11,
     "metadata": {},
     "output_type": "execute_result"
    }
   ],
   "source": [
    "dataF['año_ocu'].unique() #Se observa que solo se tienen los años correspondiente"
   ]
  },
  {
   "cell_type": "code",
   "execution_count": 12,
   "metadata": {},
   "outputs": [
    {
     "data": {
      "text/plain": [
       "['Automovil',\n",
       " 'Bicicleta',\n",
       " 'Bus Escolar',\n",
       " 'Bus Militar',\n",
       " 'Bus Urbano',\n",
       " 'Bus extraurbano',\n",
       " 'Cabezal',\n",
       " 'Camion',\n",
       " 'Camioneta Sport',\n",
       " 'Cuatrimoto',\n",
       " 'Furgoneta',\n",
       " 'Grua',\n",
       " 'Ignorado',\n",
       " 'Jeep',\n",
       " 'Microbus',\n",
       " 'Montacarga',\n",
       " 'Moto Taxi',\n",
       " 'Motocicleta',\n",
       " 'Panel',\n",
       " 'Pick Up',\n",
       " 'Taxi',\n",
       " 'Tractor']"
      ]
     },
     "execution_count": 12,
     "metadata": {},
     "output_type": "execute_result"
    }
   ],
   "source": [
    "sorted(dataF['tipo_veh'].unique()) #Se observa que los valores son los correspondientes."
   ]
  },
  {
   "cell_type": "code",
   "execution_count": 13,
   "metadata": {},
   "outputs": [
    {
     "data": {
      "text/plain": [
       "array(['Lesionado', 'Fallecido', 'Ignorado'], dtype=object)"
      ]
     },
     "execution_count": 13,
     "metadata": {},
     "output_type": "execute_result"
    }
   ],
   "source": [
    "dataF['fall_les'].unique()"
   ]
  },
  {
   "cell_type": "code",
   "execution_count": 14,
   "metadata": {},
   "outputs": [
    {
     "data": {
      "text/plain": [
       "array(['Derrape', 'Colision', 'Vuelco', 'Caida', 'Choque', 'Atropello',\n",
       "       'Ignorado', 'Embarranco', 'Encuneto'], dtype=object)"
      ]
     },
     "execution_count": 14,
     "metadata": {},
     "output_type": "execute_result"
    }
   ],
   "source": [
    "dataF['tipo_eve'].unique()"
   ]
  },
  {
   "cell_type": "code",
   "execution_count": 15,
   "metadata": {},
   "outputs": [
    {
     "data": {
      "text/plain": [
       "array(['Guatemala', 'Chiquimula', 'Zacapa', 'Escuintla', 'Santa Rosa',\n",
       "       'Suchitepequez', 'Quetzaltenango', 'San Marcos', 'Totonicapan',\n",
       "       'Baja Verapaz', 'Izabal', 'Peten', 'Quiche', 'Solola',\n",
       "       'Chimaltenango', 'Sacatepequez', 'Jutiapa', 'Jalapa',\n",
       "       'Alta Verapaz', 'Retalhuleu', 'El Progreso', 'Huhuetenango'],\n",
       "      dtype=object)"
      ]
     },
     "execution_count": 15,
     "metadata": {},
     "output_type": "execute_result"
    }
   ],
   "source": [
    "dataF['depto_ocu'].unique()"
   ]
  },
  {
   "cell_type": "markdown",
   "metadata": {},
   "source": [
    "#### Pregunta No. 1 ¿Cual es el tipo de accidente más común?"
   ]
  },
  {
   "cell_type": "code",
   "execution_count": 16,
   "metadata": {},
   "outputs": [
    {
     "name": "stdout",
     "output_type": "stream",
     "text": [
      "Colision      15993\n",
      "Atropello     11624\n",
      "Choque         3199\n",
      "Vuelco         1343\n",
      "Caida          1305\n",
      "Derrape         533\n",
      "Embarranco       72\n",
      "Ignorado         10\n",
      "Encuneto          4\n",
      "Name: tipo_eve, dtype: int64\n"
     ]
    }
   ],
   "source": [
    "accidente_comun = dataF['tipo_eve'].value_counts()\n",
    "print(accidente_comun)"
   ]
  },
  {
   "cell_type": "code",
   "execution_count": 17,
   "metadata": {},
   "outputs": [
    {
     "data": {
      "text/plain": [
       "<matplotlib.axes._subplots.AxesSubplot at 0x10f1c370>"
      ]
     },
     "execution_count": 17,
     "metadata": {},
     "output_type": "execute_result"
    },
    {
     "data": {
      "image/png": "[encoded data removed]",
      "text/plain": [
       "<Figure size 432x288 with 1 Axes>"
      ]
     },
     "metadata": {
      "needs_background": "light"
     },
     "output_type": "display_data"
    }
   ],
   "source": [
    "accidente_comun.plot(kind='bar', color='red')"
   ]
  },
  {
   "cell_type": "markdown",
   "metadata": {},
   "source": [
    "Se puede observar que el tipo de accidente más común en los ultimos 4 años, es decir del 2015 al 2019, es la **colisión**."
   ]
  },
  {
   "cell_type": "markdown",
   "metadata": {},
   "source": [
    "#### Pregunta No. 2 ¿Que año tiene más accidentes?"
   ]
  },
  {
   "cell_type": "code",
   "execution_count": 18,
   "metadata": {},
   "outputs": [
    {
     "name": "stdout",
     "output_type": "stream",
     "text": [
      "2016    7756\n",
      "2019    7183\n",
      "2015    6702\n",
      "2018    6511\n",
      "2017    5931\n",
      "Name: año_ocu, dtype: int64\n"
     ]
    }
   ],
   "source": [
    "ano_ocurencia = dataF['año_ocu'].value_counts()\n",
    "print(ano_ocurencia)"
   ]
  },
  {
   "cell_type": "code",
   "execution_count": 19,
   "metadata": {},
   "outputs": [
    {
     "data": {
      "text/plain": [
       "<matplotlib.axes._subplots.AxesSubplot at 0x117eea78>"
      ]
     },
     "execution_count": 19,
     "metadata": {},
     "output_type": "execute_result"
    },
    {
     "data": {
      "image/png": "[encoded data removed]",
      "text/plain": [
       "<Figure size 432x288 with 1 Axes>"
      ]
     },
     "metadata": {
      "needs_background": "light"
     },
     "output_type": "display_data"
    }
   ],
   "source": [
    "ano_ocurencia.plot(kind='bar', color='green', edgecolor='orange')"
   ]
  },
  {
   "cell_type": "markdown",
   "metadata": {},
   "source": [
    "El año con mayor cantidad de accidentes es **2016** el cual registra 7756 accidentes en total."
   ]
  },
  {
   "cell_type": "markdown",
   "metadata": {},
   "source": [
    "#### Pregunta No. 3 ¿Cuanto fallecidos y lesionados hay en General?"
   ]
  },
  {
   "cell_type": "code",
   "execution_count": 20,
   "metadata": {},
   "outputs": [
    {
     "data": {
      "text/plain": [
       "Lesionado    26606\n",
       "Fallecido     7474\n",
       "Ignorado         3\n",
       "Name: fall_les, dtype: int64"
      ]
     },
     "execution_count": 20,
     "metadata": {},
     "output_type": "execute_result"
    }
   ],
   "source": [
    "dataF['fall_les'].value_counts()"
   ]
  },
  {
   "cell_type": "markdown",
   "metadata": {},
   "source": [
    "Se puede observar que la cantidad de lesionados es mayor a los fallecidos."
   ]
  },
  {
   "cell_type": "markdown",
   "metadata": {},
   "source": [
    "#### Pregunta No. 4 ¿Cuanto de los Fallecidos fueron por Colision?"
   ]
  },
  {
   "cell_type": "markdown",
   "metadata": {},
   "source": [
    "Agrupamos los datos, entre fallecidos y el tipo de choque que queremos, en este caso se tomo el tipo **colision** debido a que es el que más se encuentran registrados"
   ]
  },
  {
   "cell_type": "code",
   "execution_count": 21,
   "metadata": {},
   "outputs": [
    {
     "data": {
      "text/plain": [
       "Fallecido    2400\n",
       "Name: fall_les, dtype: int64"
      ]
     },
     "execution_count": 21,
     "metadata": {},
     "output_type": "execute_result"
    }
   ],
   "source": [
    "FC =dataF.loc[(dataF['fall_les'] == 'Fallecido') & (dataF['tipo_eve'] == 'Colision')] #Fallecidos por Colision\n",
    "cantidadFallecidosColision = FC['fall_les'].value_counts()\n",
    "cantidadFallecidosColision"
   ]
  },
  {
   "cell_type": "markdown",
   "metadata": {},
   "source": [
    "Se observa que la cantidad de fallecidos durante un accidente causado por colision, es de **2400**. Procederemos a verificar sacando la cantidad de Lesionados, y luego sumar ambos datos, y observar si es la misma cantidad que tenemos registrada."
   ]
  },
  {
   "cell_type": "code",
   "execution_count": 22,
   "metadata": {},
   "outputs": [
    {
     "data": {
      "text/plain": [
       "Lesionado    13592\n",
       "Name: fall_les, dtype: int64"
      ]
     },
     "execution_count": 22,
     "metadata": {},
     "output_type": "execute_result"
    }
   ],
   "source": [
    "LC =dataF.loc[(dataF['fall_les'] == 'Lesionado') & (dataF['tipo_eve'] == 'Colision')]\n",
    "cantidadLesionadosColision = LC['fall_les'].value_counts()\n",
    "cantidadLesionadosColision"
   ]
  },
  {
   "cell_type": "markdown",
   "metadata": {},
   "source": [
    "Verificamos que la cantidad sea la misma encontrados anteriormente, en la Pregunta No. 1 "
   ]
  },
  {
   "cell_type": "code",
   "execution_count": 23,
   "metadata": {},
   "outputs": [
    {
     "name": "stdout",
     "output_type": "stream",
     "text": [
      "Cantidad de Colision:  15992\n",
      "Cantidad de Colision:  15993\n"
     ]
    }
   ],
   "source": [
    "#relacion con la Pregunta No. 1\n",
    "verificacionData = dataF['tipo_eve'].value_counts()\n",
    "\n",
    "print('Cantidad de Colision: ', cantidadFallecidosColision[0] + cantidadLesionadosColision[0])\n",
    "print('Cantidad de Colision: ', verificacionData[0])"
   ]
  },
  {
   "cell_type": "markdown",
   "metadata": {},
   "source": [
    "#### Pregunta No. 5 ¿Cuales son los tipos de Vehiculos que frecuencias más accidentes?"
   ]
  },
  {
   "cell_type": "markdown",
   "metadata": {},
   "source": [
    "Utilizando los diccionarios vamos a identificar cada tipo de vehiculos"
   ]
  },
  {
   "cell_type": "code",
   "execution_count": 24,
   "metadata": {},
   "outputs": [
    {
     "name": "stdout",
     "output_type": "stream",
     "text": [
      "Motocicleta        16384\n",
      "Automovil           5194\n",
      "Pick Up             3573\n",
      "Ignorado            2915\n",
      "Camioneta Sport     1419\n",
      "Camion              1146\n",
      "Bus Urbano           836\n",
      "Microbus             767\n",
      "Moto Taxi            639\n",
      "Cabezal              477\n",
      "Bus extraurbano      209\n",
      "Panel                188\n",
      "Bicicleta            145\n",
      "Taxi                  66\n",
      "Cuatrimoto            46\n",
      "Jeep                  39\n",
      "Tractor               24\n",
      "Grua                   8\n",
      "Bus Escolar            3\n",
      "Furgoneta              2\n",
      "Montacarga             2\n",
      "Bus Militar            1\n",
      "Name: tipo_veh, dtype: int64\n"
     ]
    }
   ],
   "source": [
    "tipo_vehiculo = dataF['tipo_veh'].value_counts()\n",
    "print(tipo_vehiculo)"
   ]
  },
  {
   "cell_type": "code",
   "execution_count": 25,
   "metadata": {},
   "outputs": [
    {
     "data": {
      "text/plain": [
       "<matplotlib.axes._subplots.AxesSubplot at 0x55ef7f0>"
      ]
     },
     "execution_count": 25,
     "metadata": {},
     "output_type": "execute_result"
    },
    {
     "data": {
      "image/png": "[encoded data removed]",
      "text/plain": [
       "<Figure size 432x288 with 1 Axes>"
      ]
     },
     "metadata": {
      "needs_background": "light"
     },
     "output_type": "display_data"
    }
   ],
   "source": [
    "tipo_vehiculo.plot(kind='bar', color='blue')"
   ]
  },
  {
   "cell_type": "markdown",
   "metadata": {},
   "source": [
    "En el analisis anterior, se observa que el vehiculos que más presenta accidentes es **motocicleta**, y es notable con lo que se puede observar en la actualidad, un incremento de motocicletas"
   ]
  },
  {
   "cell_type": "markdown",
   "metadata": {},
   "source": [
    "#### Pregunta No. 6 ¿Departamento con más accidentes?"
   ]
  },
  {
   "cell_type": "code",
   "execution_count": 26,
   "metadata": {},
   "outputs": [
    {
     "name": "stdout",
     "output_type": "stream",
     "text": [
      "Guatemala         12596\n",
      "Escuintla          2685\n",
      "Alta Verapaz       1461\n",
      "Chimaltenango      1388\n",
      "Izabal             1287\n",
      "Peten              1203\n",
      "Suchitepequez      1197\n",
      "Santa Rosa         1158\n",
      "Sacatepequez       1117\n",
      "Zacapa             1116\n",
      "Quetzaltenango     1065\n",
      "Retalhuleu          945\n",
      "Jutiapa             923\n",
      "Chiquimula          865\n",
      "El Progreso         848\n",
      "San Marcos          740\n",
      "Huhuetenango        722\n",
      "Quiche              700\n",
      "Solola              680\n",
      "Baja Verapaz        624\n",
      "Jalapa              462\n",
      "Totonicapan         301\n",
      "Name: depto_ocu, dtype: int64\n"
     ]
    }
   ],
   "source": [
    "departament_more = dataF['depto_ocu'].value_counts()\n",
    "print(departament_more)"
   ]
  },
  {
   "cell_type": "code",
   "execution_count": 27,
   "metadata": {},
   "outputs": [
    {
     "data": {
      "text/plain": [
       "<matplotlib.axes._subplots.AxesSubplot at 0x1199a940>"
      ]
     },
     "execution_count": 27,
     "metadata": {},
     "output_type": "execute_result"
    },
    {
     "data": {
      "image/png": "[encoded data removed]",
      "text/plain": [
       "<Figure size 432x288 with 1 Axes>"
      ]
     },
     "metadata": {
      "needs_background": "light"
     },
     "output_type": "display_data"
    }
   ],
   "source": [
    "departament_more.plot(kind='bar', color='skyblue')"
   ]
  },
  {
   "cell_type": "markdown",
   "metadata": {},
   "source": [
    "Se puede observar que el departamento que más accidente detecta es **GUATEMALA**, y es por que es donde mayor población hay dentro del pais. El segundo departamento es **ESCUINTLA** por se el más cercano al primero en greografía, muchos de las personas viajan."
   ]
  },
  {
   "cell_type": "markdown",
   "metadata": {},
   "source": [
    "#### Pregunta No. 7 ¿Cuantos fallecidos hay en el Departamento de Guatemala?"
   ]
  },
  {
   "cell_type": "code",
   "execution_count": 28,
   "metadata": {},
   "outputs": [
    {
     "name": "stdout",
     "output_type": "stream",
     "text": [
      "Fallecido    1853\n",
      "Name: fall_les, dtype: int64\n",
      "Cantidad en porcentaje:  14.71101937122896\n"
     ]
    }
   ],
   "source": [
    "#Fallecidos por Guatemala\n",
    "fallecidoGuatemala = dataF.loc[(dataF['fall_les'] == 'Fallecido') & (dataF['depto_ocu'] == 'Guatemala')]\n",
    "fallecidosGT = fallecidoGuatemala['fall_les'].value_counts()\n",
    "print(fallecidosGT)\n",
    "#verificacion\n",
    "verificacionData = dataF['depto_ocu'].value_counts()\n",
    "print('Cantidad en porcentaje: ', (fallecidosGT[0]/verificacionData[0])*100)"
   ]
  },
  {
   "cell_type": "markdown",
   "metadata": {},
   "source": [
    "Se observa que los numeros de fallecidos en el departamento de Guatemala es **1853** que representa 15% de los accidentes que hay dentro de los departamentos."
   ]
  },
  {
   "cell_type": "markdown",
   "metadata": {},
   "source": [
    "Verificamos si el dato encontrado se relaciona con los datos de las Pregunta No. 6 de accidentes dentro del Departamento"
   ]
  },
  {
   "cell_type": "code",
   "execution_count": 29,
   "metadata": {},
   "outputs": [
    {
     "data": {
      "text/plain": [
       "Lesionado    10742\n",
       "Name: fall_les, dtype: int64"
      ]
     },
     "execution_count": 29,
     "metadata": {},
     "output_type": "execute_result"
    }
   ],
   "source": [
    "lesionadoGuatemala = dataF.loc[(dataF['fall_les'] == 'Lesionado') & (dataF['depto_ocu'] == 'Guatemala')]\n",
    "lesionadoGT = lesionadoGuatemala['fall_les'].value_counts()\n",
    "lesionadoGT"
   ]
  },
  {
   "cell_type": "code",
   "execution_count": 30,
   "metadata": {},
   "outputs": [
    {
     "name": "stdout",
     "output_type": "stream",
     "text": [
      "Cantidad de Fallecidos:  12595\n",
      "Cantidad de Fallecidos Verificación:  12596\n"
     ]
    }
   ],
   "source": [
    "#Relacion con los datos\n",
    "verificacionData = dataF['depto_ocu'].value_counts()\n",
    "\n",
    "print('Cantidad de Fallecidos: ', fallecidosGT[0] + lesionadoGT[0])\n",
    "print('Cantidad de Fallecidos Verificación: ', verificacionData[0])"
   ]
  }
 ],
 "metadata": {
  "kernelspec": {
   "display_name": "Python 3",
   "language": "python",
   "name": "python3"
  },
  "language_info": {
   "codemirror_mode": {
    "name": "ipython",
    "version": 3
   },
   "file_extension": ".py",
   "mimetype": "text/x-python",
   "name": "python",
   "nbconvert_exporter": "python",
   "pygments_lexer": "ipython3",
   "version": "3.8.2"
  }
 },
 "nbformat": 4,
 "nbformat_minor": 4
}
